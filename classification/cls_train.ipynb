{
 "cells": [
  {
   "cell_type": "markdown",
   "metadata": {},
   "source": [
    "# Fashion-MNIST Classification using ResNet"
   ]
  },
  {
   "cell_type": "code",
   "execution_count": 1,
   "metadata": {},
   "outputs": [],
   "source": [
    "import numpy as np\n",
    "import torch\n",
    "import torch.nn as nn\n",
    "import torch.optim as optim\n",
    "from torchvision import datasets, transforms\n",
    "import matplotlib.pyplot as plt\n",
    "\n",
    "import math\n",
    "import torch.nn.functional as F\n",
    "import torch.nn.init as init\n",
    "from tqdm import tqdm\n",
    "import os\n",
    "\n",
    "from model import ResNet, BasicBlock\n",
    "os.environ[\"CUDA_VISIBLE_DEVICES\"] = \"2, 3\""
   ]
  },
  {
   "cell_type": "code",
   "execution_count": null,
   "metadata": {},
   "outputs": [],
   "source": [
    "config = {\n",
    "    'batch_size': 512,\n",
    "    'lr': 0.001,\n",
    "    'epochs': 30,\n",
    "    'checkpoint_dir': \"./checkpoint\"\n",
    "}\n",
    "\n",
    "os.makedirs(config['checkpoint_dir'], exist_ok=True)"
   ]
  },
  {
   "cell_type": "code",
   "execution_count": 3,
   "metadata": {},
   "outputs": [],
   "source": [
    "# Download training and testing data\n",
    "transform_train = transforms.Compose([\n",
    "    transforms.RandomCrop(28, padding=4),\n",
    "    transforms.RandomHorizontalFlip(),\n",
    "    transforms.ToTensor(),\n",
    "    transforms.Normalize((0.1307,), (0.3081,))\n",
    "])\n",
    "transform_test = transforms.Compose([\n",
    "    transforms.ToTensor(),\n",
    "    transforms.Normalize((0.1307,), (0.3081,))\n",
    "])\n",
    "train_dataset = datasets.FashionMNIST('F_MNIST_data', download=True, train=True, transform=transform_train)\n",
    "val_dataset = datasets.FashionMNIST('F_MNIST_data', download=True, train=False, transform=transform_test)\n",
    "\n",
    "\n",
    "# prepare dataloaders\n",
    "train_dataloader = torch.utils.data.DataLoader(\n",
    "    train_dataset, \n",
    "    batch_size=config['batch_size'],\n",
    "    shuffle=True,\n",
    "    num_workers=128,\n",
    ")\n",
    "\n",
    "val_dataloader = torch.utils.data.DataLoader(\n",
    "    val_dataset, \n",
    "    batch_size=config['batch_size'],\n",
    "    shuffle=False,\n",
    "    num_workers=128,\n",
    ")\n"
   ]
  },
  {
   "cell_type": "code",
   "execution_count": 4,
   "metadata": {},
   "outputs": [
    {
     "name": "stdout",
     "output_type": "stream",
     "text": [
      "train dataloader:  118\n",
      "val dataloader:  20\n"
     ]
    }
   ],
   "source": [
    "print(\"train dataloader: \", train_dataloader.__len__())\n",
    "print(\"val dataloader: \", val_dataloader.__len__())"
   ]
  },
  {
   "cell_type": "code",
   "execution_count": 5,
   "metadata": {},
   "outputs": [
    {
     "name": "stdout",
     "output_type": "stream",
     "text": [
      "torch.Size([1, 28, 28]) torch.Size([512])\n",
      "Shirt\n"
     ]
    },
    {
     "data": {
      "text/plain": [
       "<matplotlib.image.AxesImage at 0x7ff240846c10>"
      ]
     },
     "execution_count": 5,
     "metadata": {},
     "output_type": "execute_result"
    },
    {
     "data": {
      "image/png": "[encoded data removed]",
      "text/plain": [
       "<Figure size 640x480 with 1 Axes>"
      ]
     },
     "metadata": {},
     "output_type": "display_data"
    }
   ],
   "source": [
    "image, label = next(iter(train_dataloader))\n",
    "print(image[0].shape, label.shape)\n",
    "desc = ['T-shirt/top','Trouser','Pullover','Dress','Coat','Sandal','Shirt','Sneaker','Bag','Ankle Boot']\n",
    "print(desc[label[0].item()])\n",
    "plt.imshow(image[0].numpy().squeeze(), cmap='gray')"
   ]
  },
  {
   "cell_type": "markdown",
   "metadata": {},
   "source": [
    "## Build the network"
   ]
  },
  {
   "cell_type": "code",
   "execution_count": null,
   "metadata": {},
   "outputs": [],
   "source": [
    "torch.backends.cudnn.deterministic = True\n",
    "model = ResNet(BasicBlock, [2, 2, 2])\n",
    "if torch.cuda.is_available():\n",
    "    DEVICE = \"cuda\"\n",
    "    model = model.to(DEVICE)\n",
    "    n = torch.cuda.device_count()\n",
    "    if n > 1:\n",
    "        model = nn.DataParallel(model)\n",
    "else:\n",
    "    DEVICE = \"cpu\"\n",
    "\n",
    "criterion = nn.CrossEntropyLoss()\n",
    "optimizer = torch.optim.Adam(model.parameters(), lr=0.001, weight_decay=1e-4)\n",
    "scheduler = torch.optim.lr_scheduler.CosineAnnealingLR(optimizer, T_max=config[\"epochs\"], eta_min=1e-5)\n",
    "scaler = torch.amp.GradScaler()"
   ]
  },
  {
   "cell_type": "code",
   "execution_count": 8,
   "metadata": {},
   "outputs": [],
   "source": [
    "class AverageMeter:\n",
    "    \"\"\"Computes and stores the average and current value\"\"\"\n",
    "    def __init__(self):\n",
    "        self.reset()\n",
    "\n",
    "    def reset(self):\n",
    "        self.val = 0\n",
    "        self.avg = 0\n",
    "        self.sum = 0\n",
    "        self.count = 0\n",
    "\n",
    "    def update(self, val, n=1):\n",
    "        self.val = val\n",
    "        self.sum += val * n\n",
    "        self.count += n\n",
    "        self.avg = self.sum / self.count\n",
    "\n",
    "def accuracy(output, target, topk=(1,)):\n",
    "    \"\"\"Computes the accuracy over the k top predictions for the specified values of k\"\"\"\n",
    "    maxk = min(max(topk), output.size()[1])\n",
    "    batch_size = target.size(0)\n",
    "    _, pred = output.topk(maxk, 1, True, True)\n",
    "    pred = pred.t()\n",
    "    correct = pred.eq(target.reshape(1, -1).expand_as(pred))\n",
    "    return [correct[:min(k, maxk)].reshape(-1).float().sum(0) * 100. / batch_size for k in topk]"
   ]
  },
  {
   "cell_type": "markdown",
   "metadata": {},
   "source": [
    "## Train the network"
   ]
  },
  {
   "cell_type": "code",
   "execution_count": 9,
   "metadata": {},
   "outputs": [],
   "source": [
    "def train_epoch(model, dataloader, optimizer, criterion, scaler):\n",
    "    model.train()\n",
    "    \n",
    "    loss_m = AverageMeter()\n",
    "    acc_m = AverageMeter()\n",
    "\n",
    "    batch_bar = tqdm(total=len(dataloader), dynamic_ncols=True, leave=False, position=0, desc='Train', ncols=5)\n",
    "    for _, (images, labels) in enumerate(dataloader):\n",
    "        optimizer.zero_grad()\n",
    "        images = images.to(DEVICE)\n",
    "        labels = labels.to(DEVICE)\n",
    "\n",
    "        with torch.autocast(device_type = 'cuda', dtype=torch.float16):\n",
    "            outputs = model(images)\n",
    "            loss = criterion(outputs, labels)\n",
    "\n",
    "        scaler.scale(loss).backward()\n",
    "        scaler.step(optimizer)\n",
    "        scaler.update()\n",
    "\n",
    "        loss_m.update(loss.item(), images.size(0))\n",
    "        acc = accuracy(outputs, labels)[0].item()\n",
    "        acc_m.update(acc, images.size(0))\n",
    "        batch_bar.set_postfix(\n",
    "            acc         = \"{:.04f}% ({:.04f})\".format(acc, acc_m.avg),\n",
    "            loss        = \"{:.04f} ({:.04f})\".format(loss.item(), loss_m.avg),\n",
    "            lr          = \"{:.04f}\".format(float(optimizer.param_groups[0]['lr']))\n",
    "        )\n",
    "\n",
    "        batch_bar.update() # Update tqdm bar\n",
    "        \n",
    "    batch_bar.close()\n",
    "    return acc_m.avg, loss_m.avg"
   ]
  },
  {
   "cell_type": "code",
   "execution_count": 10,
   "metadata": {},
   "outputs": [],
   "source": [
    "@torch.no_grad()\n",
    "def valid_epoch(model, dataloader):\n",
    "    model.eval()\n",
    "    \n",
    "    batch_bar = tqdm(total=len(dataloader), dynamic_ncols=True, position=0, leave=False, desc='Val Cls.', ncols=5)\n",
    "\n",
    "    # metric meters\n",
    "    loss_m = AverageMeter()\n",
    "    acc_m = AverageMeter()\n",
    "\n",
    "    for i, (images, labels) in enumerate(dataloader):\n",
    "\n",
    "        # Move images to device\n",
    "        images, labels = images.to(DEVICE), labels.to(DEVICE)\n",
    "\n",
    "        # Get model outputs\n",
    "        with torch.inference_mode():\n",
    "            outputs = model(images)\n",
    "            loss = criterion(outputs, labels)\n",
    "\n",
    "        # metrics\n",
    "        acc = accuracy(outputs, labels)[0].item()\n",
    "        loss_m.update(loss.item())\n",
    "        acc_m.update(acc)\n",
    "\n",
    "        batch_bar.set_postfix(\n",
    "            acc         = \"{:.04f}% ({:.04f})\".format(acc, acc_m.avg),\n",
    "            loss        = \"{:.04f} ({:.04f})\".format(loss.item(), loss_m.avg))\n",
    "\n",
    "        batch_bar.update()\n",
    "\n",
    "    batch_bar.close()\n",
    "    return acc_m.avg, loss_m.avg"
   ]
  },
  {
   "cell_type": "code",
   "execution_count": 11,
   "metadata": {},
   "outputs": [],
   "source": [
    "def save_model(model, optimizer, scheduler, metrics, epoch, path):\n",
    "    if torch.cuda.device_count() > 1:\n",
    "        torch.save(\n",
    "            {'model_state_dict'         : model.module.state_dict(),\n",
    "             'optimizer_state_dict'     : optimizer.state_dict(),\n",
    "             'scheduler_state_dict'     : scheduler.state_dict(),\n",
    "             'metric'                   : metrics,\n",
    "             'epoch'                    : epoch},\n",
    "             path)\n",
    "    else:\n",
    "        torch.save(\n",
    "            {'model_state_dict'        : model.state_dict(),\n",
    "            'optimizer_state_dict'     : optimizer.state_dict(),\n",
    "            'scheduler_state_dict'     : scheduler.state_dict(),\n",
    "            'metric'                   : metrics,\n",
    "            'epoch'                    : epoch},\n",
    "            path)"
   ]
  },
  {
   "cell_type": "code",
   "execution_count": 12,
   "metadata": {},
   "outputs": [
    {
     "name": "stdout",
     "output_type": "stream",
     "text": [
      "\n",
      "Epoch 1/30\n"
     ]
    },
    {
     "name": "stderr",
     "output_type": "stream",
     "text": [
      "                                                                                                                 \r"
     ]
    },
    {
     "name": "stdout",
     "output_type": "stream",
     "text": [
      "\n",
      "Epoch 1/30: \n",
      "Train Cls. Acc 78.5450%\t Train Cls. Loss 0.8257\t Learning Rate 0.0010\n"
     ]
    },
    {
     "name": "stderr",
     "output_type": "stream",
     "text": [
      "                                                                                                       \r"
     ]
    },
    {
     "name": "stdout",
     "output_type": "stream",
     "text": [
      "Val Cls. Acc 84.0148%\t Val Cls. Loss 0.6290\n",
      "Saved epoch model\n",
      "Saved best classification model\n",
      "\n",
      "Epoch 2/30\n"
     ]
    },
    {
     "name": "stderr",
     "output_type": "stream",
     "text": [
      "                                                                                                                 \r"
     ]
    },
    {
     "name": "stdout",
     "output_type": "stream",
     "text": [
      "\n",
      "Epoch 2/30: \n",
      "Train Cls. Acc 86.9983%\t Train Cls. Loss 0.5463\t Learning Rate 0.0010\n"
     ]
    },
    {
     "name": "stderr",
     "output_type": "stream",
     "text": [
      "                                                                                                       \r"
     ]
    },
    {
     "name": "stdout",
     "output_type": "stream",
     "text": [
      "Val Cls. Acc 85.9243%\t Val Cls. Loss 0.6005\n",
      "Saved epoch model\n",
      "Saved best classification model\n",
      "\n",
      "Epoch 3/30\n"
     ]
    },
    {
     "name": "stderr",
     "output_type": "stream",
     "text": [
      "                                                                                                                 \r"
     ]
    },
    {
     "name": "stdout",
     "output_type": "stream",
     "text": [
      "\n",
      "Epoch 3/30: \n",
      "Train Cls. Acc 89.1650%\t Train Cls. Loss 0.4475\t Learning Rate 0.0010\n"
     ]
    },
    {
     "name": "stderr",
     "output_type": "stream",
     "text": [
      "                                                                                                       \r"
     ]
    },
    {
     "name": "stdout",
     "output_type": "stream",
     "text": [
      "Val Cls. Acc 86.0656%\t Val Cls. Loss 0.5128\n",
      "Saved epoch model\n",
      "Saved best classification model\n",
      "\n",
      "Epoch 4/30\n"
     ]
    },
    {
     "name": "stderr",
     "output_type": "stream",
     "text": [
      "                                                                                                                 \r"
     ]
    },
    {
     "name": "stdout",
     "output_type": "stream",
     "text": [
      "\n",
      "Epoch 4/30: \n",
      "Train Cls. Acc 90.3033%\t Train Cls. Loss 0.3875\t Learning Rate 0.0010\n"
     ]
    },
    {
     "name": "stderr",
     "output_type": "stream",
     "text": [
      "                                                                                                       \r"
     ]
    },
    {
     "name": "stdout",
     "output_type": "stream",
     "text": [
      "Val Cls. Acc 87.7327%\t Val Cls. Loss 0.4476\n",
      "Saved epoch model\n",
      "Saved best classification model\n",
      "\n",
      "Epoch 5/30\n"
     ]
    },
    {
     "name": "stderr",
     "output_type": "stream",
     "text": [
      "                                                                                                                 \r"
     ]
    },
    {
     "name": "stdout",
     "output_type": "stream",
     "text": [
      "\n",
      "Epoch 5/30: \n",
      "Train Cls. Acc 90.8967%\t Train Cls. Loss 0.3479\t Learning Rate 0.0010\n"
     ]
    },
    {
     "name": "stderr",
     "output_type": "stream",
     "text": [
      "                                                                                                       \r"
     ]
    },
    {
     "name": "stdout",
     "output_type": "stream",
     "text": [
      "Val Cls. Acc 89.6283%\t Val Cls. Loss 0.3695\n",
      "Saved epoch model\n",
      "Saved best classification model\n",
      "\n",
      "Epoch 6/30\n"
     ]
    },
    {
     "name": "stderr",
     "output_type": "stream",
     "text": [
      "                                                                                                                 \r"
     ]
    },
    {
     "name": "stdout",
     "output_type": "stream",
     "text": [
      "\n",
      "Epoch 6/30: \n",
      "Train Cls. Acc 91.5283%\t Train Cls. Loss 0.3143\t Learning Rate 0.0009\n"
     ]
    },
    {
     "name": "stderr",
     "output_type": "stream",
     "text": [
      "                                                                                                       \r"
     ]
    },
    {
     "name": "stdout",
     "output_type": "stream",
     "text": [
      "Val Cls. Acc 80.5032%\t Val Cls. Loss 0.6076\n",
      "Saved epoch model\n",
      "\n",
      "Epoch 7/30\n"
     ]
    },
    {
     "name": "stderr",
     "output_type": "stream",
     "text": [
      "                                                                                                                 \r"
     ]
    },
    {
     "name": "stdout",
     "output_type": "stream",
     "text": [
      "\n",
      "Epoch 7/30: \n",
      "Train Cls. Acc 91.7900%\t Train Cls. Loss 0.2963\t Learning Rate 0.0009\n"
     ]
    },
    {
     "name": "stderr",
     "output_type": "stream",
     "text": [
      "                                                                                                       \r"
     ]
    },
    {
     "name": "stdout",
     "output_type": "stream",
     "text": [
      "Val Cls. Acc 90.1545%\t Val Cls. Loss 0.3333\n",
      "Saved epoch model\n",
      "Saved best classification model\n",
      "\n",
      "Epoch 8/30\n"
     ]
    },
    {
     "name": "stderr",
     "output_type": "stream",
     "text": [
      "                                                                                                                 \r"
     ]
    },
    {
     "name": "stdout",
     "output_type": "stream",
     "text": [
      "\n",
      "Epoch 8/30: \n",
      "Train Cls. Acc 92.3633%\t Train Cls. Loss 0.2748\t Learning Rate 0.0009\n"
     ]
    },
    {
     "name": "stderr",
     "output_type": "stream",
     "text": [
      "                                                                                                       \r"
     ]
    },
    {
     "name": "stdout",
     "output_type": "stream",
     "text": [
      "Val Cls. Acc 90.9605%\t Val Cls. Loss 0.3005\n",
      "Saved epoch model\n",
      "Saved best classification model\n",
      "\n",
      "Epoch 9/30\n"
     ]
    },
    {
     "name": "stderr",
     "output_type": "stream",
     "text": [
      "                                                                                                                 \r"
     ]
    },
    {
     "name": "stdout",
     "output_type": "stream",
     "text": [
      "\n",
      "Epoch 9/30: \n",
      "Train Cls. Acc 92.6217%\t Train Cls. Loss 0.2606\t Learning Rate 0.0008\n"
     ]
    },
    {
     "name": "stderr",
     "output_type": "stream",
     "text": [
      "                                                                                                       \r"
     ]
    },
    {
     "name": "stdout",
     "output_type": "stream",
     "text": [
      "Val Cls. Acc 90.4756%\t Val Cls. Loss 0.3166\n",
      "Saved epoch model\n",
      "\n",
      "Epoch 10/30\n"
     ]
    },
    {
     "name": "stderr",
     "output_type": "stream",
     "text": [
      "                                                                                                                 \r"
     ]
    },
    {
     "name": "stdout",
     "output_type": "stream",
     "text": [
      "\n",
      "Epoch 10/30: \n",
      "Train Cls. Acc 92.8267%\t Train Cls. Loss 0.2473\t Learning Rate 0.0008\n"
     ]
    },
    {
     "name": "stderr",
     "output_type": "stream",
     "text": [
      "                                                                                                       \r"
     ]
    },
    {
     "name": "stdout",
     "output_type": "stream",
     "text": [
      "Val Cls. Acc 91.4137%\t Val Cls. Loss 0.2838\n",
      "Saved epoch model\n",
      "Saved best classification model\n",
      "\n",
      "Epoch 11/30\n"
     ]
    },
    {
     "name": "stderr",
     "output_type": "stream",
     "text": [
      "                                                                                                                 \r"
     ]
    },
    {
     "name": "stdout",
     "output_type": "stream",
     "text": [
      "\n",
      "Epoch 11/30: \n",
      "Train Cls. Acc 93.0483%\t Train Cls. Loss 0.2337\t Learning Rate 0.0008\n"
     ]
    },
    {
     "name": "stderr",
     "output_type": "stream",
     "text": [
      "                                                                                                       \r"
     ]
    },
    {
     "name": "stdout",
     "output_type": "stream",
     "text": [
      "Val Cls. Acc 91.8503%\t Val Cls. Loss 0.2834\n",
      "Saved epoch model\n",
      "Saved best classification model\n",
      "\n",
      "Epoch 12/30\n"
     ]
    },
    {
     "name": "stderr",
     "output_type": "stream",
     "text": [
      "                                                                                                                 \r"
     ]
    },
    {
     "name": "stdout",
     "output_type": "stream",
     "text": [
      "\n",
      "Epoch 12/30: \n",
      "Train Cls. Acc 93.4583%\t Train Cls. Loss 0.2221\t Learning Rate 0.0007\n"
     ]
    },
    {
     "name": "stderr",
     "output_type": "stream",
     "text": [
      "                                                                                                       \r"
     ]
    },
    {
     "name": "stdout",
     "output_type": "stream",
     "text": [
      "Val Cls. Acc 92.4167%\t Val Cls. Loss 0.2431\n",
      "Saved epoch model\n",
      "Saved best classification model\n",
      "\n",
      "Epoch 13/30\n"
     ]
    },
    {
     "name": "stderr",
     "output_type": "stream",
     "text": [
      "                                                                                                                 \r"
     ]
    },
    {
     "name": "stdout",
     "output_type": "stream",
     "text": [
      "\n",
      "Epoch 13/30: \n",
      "Train Cls. Acc 93.8200%\t Train Cls. Loss 0.2089\t Learning Rate 0.0007\n"
     ]
    },
    {
     "name": "stderr",
     "output_type": "stream",
     "text": [
      "                                                                                                       \r"
     ]
    },
    {
     "name": "stdout",
     "output_type": "stream",
     "text": [
      "Val Cls. Acc 92.7660%\t Val Cls. Loss 0.2261\n",
      "Saved epoch model\n",
      "Saved best classification model\n",
      "\n",
      "Epoch 14/30\n"
     ]
    },
    {
     "name": "stderr",
     "output_type": "stream",
     "text": [
      "                                                                                                                 \r"
     ]
    },
    {
     "name": "stdout",
     "output_type": "stream",
     "text": [
      "\n",
      "Epoch 14/30: \n",
      "Train Cls. Acc 93.9367%\t Train Cls. Loss 0.2013\t Learning Rate 0.0006\n"
     ]
    },
    {
     "name": "stderr",
     "output_type": "stream",
     "text": [
      "                                                                                                       \r"
     ]
    },
    {
     "name": "stdout",
     "output_type": "stream",
     "text": [
      "Val Cls. Acc 92.9688%\t Val Cls. Loss 0.2150\n",
      "Saved epoch model\n",
      "Saved best classification model\n",
      "\n",
      "Epoch 15/30\n"
     ]
    },
    {
     "name": "stderr",
     "output_type": "stream",
     "text": [
      "                                                                                                                 \r"
     ]
    },
    {
     "name": "stdout",
     "output_type": "stream",
     "text": [
      "\n",
      "Epoch 15/30: \n",
      "Train Cls. Acc 94.2100%\t Train Cls. Loss 0.1925\t Learning Rate 0.0006\n"
     ]
    },
    {
     "name": "stderr",
     "output_type": "stream",
     "text": [
      "                                                                                                       \r"
     ]
    },
    {
     "name": "stdout",
     "output_type": "stream",
     "text": [
      "Val Cls. Acc 93.5352%\t Val Cls. Loss 0.2121\n",
      "Saved epoch model\n",
      "Saved best classification model\n",
      "\n",
      "Epoch 16/30\n"
     ]
    },
    {
     "name": "stderr",
     "output_type": "stream",
     "text": [
      "                                                                                                                 \r"
     ]
    },
    {
     "name": "stdout",
     "output_type": "stream",
     "text": [
      "\n",
      "Epoch 16/30: \n",
      "Train Cls. Acc 94.4650%\t Train Cls. Loss 0.1840\t Learning Rate 0.0005\n"
     ]
    },
    {
     "name": "stderr",
     "output_type": "stream",
     "text": [
      "                                                                                                       \r"
     ]
    },
    {
     "name": "stdout",
     "output_type": "stream",
     "text": [
      "Val Cls. Acc 93.1738%\t Val Cls. Loss 0.2165\n",
      "Saved epoch model\n",
      "\n",
      "Epoch 17/30\n"
     ]
    },
    {
     "name": "stderr",
     "output_type": "stream",
     "text": [
      "                                                                                                                 \r"
     ]
    },
    {
     "name": "stdout",
     "output_type": "stream",
     "text": [
      "\n",
      "Epoch 17/30: \n",
      "Train Cls. Acc 94.7967%\t Train Cls. Loss 0.1742\t Learning Rate 0.0005\n"
     ]
    },
    {
     "name": "stderr",
     "output_type": "stream",
     "text": [
      "                                                                                                       \r"
     ]
    },
    {
     "name": "stdout",
     "output_type": "stream",
     "text": [
      "Val Cls. Acc 92.7148%\t Val Cls. Loss 0.2352\n",
      "Saved epoch model\n",
      "\n",
      "Epoch 18/30\n"
     ]
    },
    {
     "name": "stderr",
     "output_type": "stream",
     "text": [
      "                                                                                                                 \r"
     ]
    },
    {
     "name": "stdout",
     "output_type": "stream",
     "text": [
      "\n",
      "Epoch 18/30: \n",
      "Train Cls. Acc 95.0317%\t Train Cls. Loss 0.1668\t Learning Rate 0.0004\n"
     ]
    },
    {
     "name": "stderr",
     "output_type": "stream",
     "text": [
      "                                                                                                       \r"
     ]
    },
    {
     "name": "stdout",
     "output_type": "stream",
     "text": [
      "Val Cls. Acc 93.8942%\t Val Cls. Loss 0.1953\n",
      "Saved epoch model\n",
      "Saved best classification model\n",
      "\n",
      "Epoch 19/30\n"
     ]
    },
    {
     "name": "stderr",
     "output_type": "stream",
     "text": [
      "                                                                                                                 \r"
     ]
    },
    {
     "name": "stdout",
     "output_type": "stream",
     "text": [
      "\n",
      "Epoch 19/30: \n",
      "Train Cls. Acc 95.2567%\t Train Cls. Loss 0.1582\t Learning Rate 0.0004\n"
     ]
    },
    {
     "name": "stderr",
     "output_type": "stream",
     "text": [
      "                                                                                                       \r"
     ]
    },
    {
     "name": "stdout",
     "output_type": "stream",
     "text": [
      "Val Cls. Acc 93.3680%\t Val Cls. Loss 0.2142\n",
      "Saved epoch model\n",
      "\n",
      "Epoch 20/30\n"
     ]
    },
    {
     "name": "stderr",
     "output_type": "stream",
     "text": [
      "                                                                                                                 \r"
     ]
    },
    {
     "name": "stdout",
     "output_type": "stream",
     "text": [
      "\n",
      "Epoch 20/30: \n",
      "Train Cls. Acc 95.6517%\t Train Cls. Loss 0.1484\t Learning Rate 0.0003\n"
     ]
    },
    {
     "name": "stderr",
     "output_type": "stream",
     "text": [
      "                                                                                                       \r"
     ]
    },
    {
     "name": "stdout",
     "output_type": "stream",
     "text": [
      "Val Cls. Acc 94.3153%\t Val Cls. Loss 0.1854\n",
      "Saved epoch model\n",
      "Saved best classification model\n",
      "\n",
      "Epoch 21/30\n"
     ]
    },
    {
     "name": "stderr",
     "output_type": "stream",
     "text": [
      "                                                                                                                 \r"
     ]
    },
    {
     "name": "stdout",
     "output_type": "stream",
     "text": [
      "\n",
      "Epoch 21/30: \n",
      "Train Cls. Acc 95.8983%\t Train Cls. Loss 0.1403\t Learning Rate 0.0003\n"
     ]
    },
    {
     "name": "stderr",
     "output_type": "stream",
     "text": [
      "                                                                                                       \r"
     ]
    },
    {
     "name": "stdout",
     "output_type": "stream",
     "text": [
      "Val Cls. Acc 94.0774%\t Val Cls. Loss 0.1883\n",
      "Saved epoch model\n",
      "\n",
      "Epoch 22/30\n"
     ]
    },
    {
     "name": "stderr",
     "output_type": "stream",
     "text": [
      "                                                                                                                 \r"
     ]
    },
    {
     "name": "stdout",
     "output_type": "stream",
     "text": [
      "\n",
      "Epoch 22/30: \n",
      "Train Cls. Acc 95.8717%\t Train Cls. Loss 0.1395\t Learning Rate 0.0002\n"
     ]
    },
    {
     "name": "stderr",
     "output_type": "stream",
     "text": [
      "                                                                                                       \r"
     ]
    },
    {
     "name": "stdout",
     "output_type": "stream",
     "text": [
      "Val Cls. Acc 94.0929%\t Val Cls. Loss 0.1860\n",
      "Saved epoch model\n",
      "\n",
      "Epoch 23/30\n"
     ]
    },
    {
     "name": "stderr",
     "output_type": "stream",
     "text": [
      "                                                                                                                 \r"
     ]
    },
    {
     "name": "stdout",
     "output_type": "stream",
     "text": [
      "\n",
      "Epoch 23/30: \n",
      "Train Cls. Acc 96.3983%\t Train Cls. Loss 0.1245\t Learning Rate 0.0002\n"
     ]
    },
    {
     "name": "stderr",
     "output_type": "stream",
     "text": [
      "                                                                                                       \r"
     ]
    },
    {
     "name": "stdout",
     "output_type": "stream",
     "text": [
      "Val Cls. Acc 94.6375%\t Val Cls. Loss 0.1797\n",
      "Saved epoch model\n",
      "Saved best classification model\n",
      "\n",
      "Epoch 24/30\n"
     ]
    },
    {
     "name": "stderr",
     "output_type": "stream",
     "text": [
      "                                                                                                                 \r"
     ]
    },
    {
     "name": "stdout",
     "output_type": "stream",
     "text": [
      "\n",
      "Epoch 24/30: \n",
      "Train Cls. Acc 96.6950%\t Train Cls. Loss 0.1176\t Learning Rate 0.0001\n"
     ]
    },
    {
     "name": "stderr",
     "output_type": "stream",
     "text": [
      "                                                                                                       \r"
     ]
    },
    {
     "name": "stdout",
     "output_type": "stream",
     "text": [
      "Val Cls. Acc 94.8328%\t Val Cls. Loss 0.1750\n",
      "Saved epoch model\n",
      "Saved best classification model\n",
      "\n",
      "Epoch 25/30\n"
     ]
    },
    {
     "name": "stderr",
     "output_type": "stream",
     "text": [
      "                                                                                                                 \r"
     ]
    },
    {
     "name": "stdout",
     "output_type": "stream",
     "text": [
      "\n",
      "Epoch 25/30: \n",
      "Train Cls. Acc 96.9867%\t Train Cls. Loss 0.1093\t Learning Rate 0.0001\n"
     ]
    },
    {
     "name": "stderr",
     "output_type": "stream",
     "text": [
      "                                                                                                       \r"
     ]
    },
    {
     "name": "stdout",
     "output_type": "stream",
     "text": [
      "Val Cls. Acc 94.6559%\t Val Cls. Loss 0.1791\n",
      "Saved epoch model\n",
      "\n",
      "Epoch 26/30\n"
     ]
    },
    {
     "name": "stderr",
     "output_type": "stream",
     "text": [
      "                                                                                                                 \r"
     ]
    },
    {
     "name": "stdout",
     "output_type": "stream",
     "text": [
      "\n",
      "Epoch 26/30: \n",
      "Train Cls. Acc 97.2550%\t Train Cls. Loss 0.1031\t Learning Rate 0.0001\n"
     ]
    },
    {
     "name": "stderr",
     "output_type": "stream",
     "text": [
      "                                                                                                       \r"
     ]
    },
    {
     "name": "stdout",
     "output_type": "stream",
     "text": [
      "Val Cls. Acc 94.7633%\t Val Cls. Loss 0.1748\n",
      "Saved epoch model\n",
      "\n",
      "Epoch 27/30\n"
     ]
    },
    {
     "name": "stderr",
     "output_type": "stream",
     "text": [
      "                                                                                                                 \r"
     ]
    },
    {
     "name": "stdout",
     "output_type": "stream",
     "text": [
      "\n",
      "Epoch 27/30: \n",
      "Train Cls. Acc 97.4767%\t Train Cls. Loss 0.0967\t Learning Rate 0.0001\n"
     ]
    },
    {
     "name": "stderr",
     "output_type": "stream",
     "text": [
      "                                                                                                       \r"
     ]
    },
    {
     "name": "stdout",
     "output_type": "stream",
     "text": [
      "Val Cls. Acc 94.7719%\t Val Cls. Loss 0.1752\n",
      "Saved epoch model\n",
      "\n",
      "Epoch 28/30\n"
     ]
    },
    {
     "name": "stderr",
     "output_type": "stream",
     "text": [
      "                                                                                                                 \r"
     ]
    },
    {
     "name": "stdout",
     "output_type": "stream",
     "text": [
      "\n",
      "Epoch 28/30: \n",
      "Train Cls. Acc 97.5950%\t Train Cls. Loss 0.0922\t Learning Rate 0.0000\n"
     ]
    },
    {
     "name": "stderr",
     "output_type": "stream",
     "text": [
      "                                                                                                       \r"
     ]
    },
    {
     "name": "stdout",
     "output_type": "stream",
     "text": [
      "Val Cls. Acc 94.7731%\t Val Cls. Loss 0.1750\n",
      "Saved epoch model\n",
      "\n",
      "Epoch 29/30\n"
     ]
    },
    {
     "name": "stderr",
     "output_type": "stream",
     "text": [
      "                                                                                                                 \r"
     ]
    },
    {
     "name": "stdout",
     "output_type": "stream",
     "text": [
      "\n",
      "Epoch 29/30: \n",
      "Train Cls. Acc 97.6917%\t Train Cls. Loss 0.0902\t Learning Rate 0.0000\n"
     ]
    },
    {
     "name": "stderr",
     "output_type": "stream",
     "text": [
      "                                                                                                       \r"
     ]
    },
    {
     "name": "stdout",
     "output_type": "stream",
     "text": [
      "Val Cls. Acc 94.8621%\t Val Cls. Loss 0.1727\n",
      "Saved epoch model\n",
      "Saved best classification model\n",
      "\n",
      "Epoch 30/30\n"
     ]
    },
    {
     "name": "stderr",
     "output_type": "stream",
     "text": [
      "                                                                                                                  \r"
     ]
    },
    {
     "name": "stdout",
     "output_type": "stream",
     "text": [
      "\n",
      "Epoch 30/30: \n",
      "Train Cls. Acc 97.7717%\t Train Cls. Loss 0.0878\t Learning Rate 0.0000\n"
     ]
    },
    {
     "name": "stderr",
     "output_type": "stream",
     "text": [
      "                                                                                                       \r"
     ]
    },
    {
     "name": "stdout",
     "output_type": "stream",
     "text": [
      "Val Cls. Acc 94.8305%\t Val Cls. Loss 0.1763\n",
      "Saved epoch model\n"
     ]
    }
   ],
   "source": [
    "best_valid_acc = 0.0\n",
    "for epoch in range(config['epochs']):\n",
    "    # epoch\n",
    "    print(\"\\nEpoch {}/{}\".format(epoch+1, config['epochs']))\n",
    "\n",
    "    # train\n",
    "    train_acc, train_loss = train_epoch(model, train_dataloader, optimizer, criterion, scaler)\n",
    "    curr_lr = float(optimizer.param_groups[0]['lr'])\n",
    "    print(\"\\nEpoch {}/{}: \\nTrain Cls. Acc {:.04f}%\\t Train Cls. Loss {:.04f}\\t Learning Rate {:.04f}\".format(epoch + 1, config['epochs'], train_acc, train_loss, curr_lr))\n",
    "    metrics = {\n",
    "        'train_acc': train_acc,\n",
    "        'train_loss': train_loss,\n",
    "    }\n",
    "\n",
    "    # classification validation\n",
    "    valid_acc, valid_loss = valid_epoch(model, val_dataloader)\n",
    "    print(\"Val Cls. Acc {:.04f}%\\t Val Cls. Loss {:.04f}\".format(valid_acc, valid_loss))\n",
    "    metrics.update({\n",
    "        'valid_cls_acc': valid_acc,\n",
    "        'valid_loss': valid_loss,\n",
    "    })\n",
    "\n",
    "    # save model\n",
    "    save_model(model, optimizer, scheduler, metrics, epoch, os.path.join(config['checkpoint_dir'], 'last.pth'))\n",
    "    print(\"Saved epoch model\")\n",
    "\n",
    "    # save best model\n",
    "    if valid_acc >= best_valid_acc:\n",
    "        best_valid_acc = valid_acc\n",
    "        save_model(model, optimizer, scheduler, metrics, epoch, os.path.join(config['checkpoint_dir'], 'best.pth'))\n",
    "        print(\"Saved best classification model\")\n",
    "    \n",
    "    # scheduler step\n",
    "    scheduler.step()\n"
   ]
  }
 ],
 "metadata": {
  "kernelspec": {
   "display_name": "ssseg",
   "language": "python",
   "name": "python3"
  },
  "language_info": {
   "codemirror_mode": {
    "name": "ipython",
    "version": 3
   },
   "file_extension": ".py",
   "mimetype": "text/x-python",
   "name": "python",
   "nbconvert_exporter": "python",
   "pygments_lexer": "ipython3",
   "version": "3.10.16"
  }
 },
 "nbformat": 4,
 "nbformat_minor": 4
}
